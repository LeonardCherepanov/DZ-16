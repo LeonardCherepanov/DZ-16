{
 "cells": [
  {
   "cell_type": "code",
   "execution_count": 43,
   "metadata": {
    "scrolled": false
   },
   "outputs": [
    {
     "name": "stdout",
     "output_type": "stream",
     "text": [
      "-21635\n"
     ]
    }
   ],
   "source": [
    "import numpy as np\n",
    "np.random.randint(1, 1000)\n",
    "cash = 100\n",
    "trials = 100000\n",
    "results = []\n",
    "for i in range(trials):\n",
    "    cash -= 1\n",
    "    random_score = np.random.randint(1, 1000)\n",
    "    if random_score == 777:\n",
    "        cash += 200\n",
    "    elif random_score == 999:\n",
    "        cash += 100\n",
    "    elif random_score == 555:\n",
    "        cash += 50\n",
    "    elif random_score == 333:\n",
    "        cash += 15\n",
    "    elif random_score == 111:\n",
    "        cash += 10\n",
    "    elif str(random_score)[-2:] == '77' and random_score != 777:\n",
    "        cash += 5\n",
    "    elif str(random_score)[-1:] == '7' and random_score != 777 and random_score != 77:\n",
    "        cash += 3\n",
    "    elif str(random_score)[-2:] == '00':\n",
    "        cash += 2\n",
    "    elif str(random_score)[-1:] == '0'and str(random_score)[-2:] != '00':\n",
    "        cash += 1\n",
    "print(cash)\n"
   ]
  },
  {
   "cell_type": "markdown",
   "metadata": {},
   "source": [
    "# Игра не выгодна. На каждые 100 попыток ущерб -21,6 р."
   ]
  }
 ],
 "metadata": {
  "kernelspec": {
   "display_name": "Python 3",
   "language": "python",
   "name": "python3"
  },
  "language_info": {
   "codemirror_mode": {
    "name": "ipython",
    "version": 3
   },
   "file_extension": ".py",
   "mimetype": "text/x-python",
   "name": "python",
   "nbconvert_exporter": "python",
   "pygments_lexer": "ipython3",
   "version": "3.8.5"
  }
 },
 "nbformat": 4,
 "nbformat_minor": 4
}
